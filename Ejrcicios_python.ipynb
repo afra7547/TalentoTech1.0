{
 "cells": [
  {
   "cell_type": "markdown",
   "id": "b4427b89-b2f7-4f3c-b377-b620e5457399",
   "metadata": {},
   "source": [
    "Escribir un programa que solicite un valor entero al usuario y determine si es par o impar. \n",
    "\n"
   ]
  },
  {
   "cell_type": "code",
   "execution_count": 2,
   "id": "cf44cecf-8474-4897-b177-b9b65df60f9b",
   "metadata": {},
   "outputs": [
    {
     "name": "stdin",
     "output_type": "stream",
     "text": [
      "Ingrese un numero entero 4\n"
     ]
    },
    {
     "name": "stdout",
     "output_type": "stream",
     "text": [
      "El numero 4 es par\n"
     ]
    }
   ],
   "source": [
    "#Escribir un programa que solicite un valor entero al usuario y determine si es par o impar. \n",
    "\n",
    "numero = int(input('Ingrese un numero entero'))\n",
    "\n",
    "#Evaluación si es par o impar:\n",
    "if numero %2 == 0:\n",
    "  print('El numero',numero,'es par')\n",
    "else:\n",
    "  print(f'El numero (numero), es impar.')"
   ]
  },
  {
   "cell_type": "code",
   "execution_count": 7,
   "id": "c9fe406d-644c-4925-a7ed-0ebb5a841723",
   "metadata": {},
   "outputs": [
    {
     "name": "stdin",
     "output_type": "stream",
     "text": [
      "Ingrese un numero entero -50\n"
     ]
    },
    {
     "name": "stdout",
     "output_type": "stream",
     "text": [
      "El número es negativo\n"
     ]
    }
   ],
   "source": [
    "#Escribir un programa que solicite un valor entero al usuario y determine si es positivo o negativo. \n",
    "numero = int(input('Ingrese un numero entero'))\n",
    "#Evaluación si es par o impar:\n",
    "if numero >= 0:\n",
    "    print('El número es positivo')\n",
    "else:\n",
    "    print('El número es negativo')\n"
   ]
  },
  {
   "cell_type": "code",
   "execution_count": 9,
   "id": "735b3447-dc65-4d79-be21-cc805254e989",
   "metadata": {},
   "outputs": [
    {
     "name": "stdout",
     "output_type": "stream",
     "text": [
      "a\n",
      "b\n",
      "c\n",
      "d\n",
      "e\n",
      "f\n",
      "g\n",
      "h\n",
      "i\n",
      "j\n",
      "k\n",
      "l\n",
      "m\n",
      "n\n",
      "o\n",
      "p\n",
      "q\n",
      "r\n",
      "s\n",
      "t\n",
      "u\n",
      "v\n",
      "w\n",
      "x\n",
      "y\n",
      "z\n"
     ]
    }
   ],
   "source": [
    "#2.1 Realizar un programa que transforme todas las letras del alfabeto de mayúsculas a minúsculas. \n",
    "abecedario = 'ABCDEFGHIJKLMNOPQRSTUVWXYZ'\n",
    "for letra in abecedario:\n",
    "    print(letra.lower())\n",
    "    "
   ]
  },
  {
   "cell_type": "code",
   "execution_count": 24,
   "id": "6856d143-a848-42a0-9d8e-54d1af5b5812",
   "metadata": {},
   "outputs": [
    {
     "name": "stdin",
     "output_type": "stream",
     "text": [
      "Ingrese un numero entero 1: 1\n",
      "Ingrese un numero entero 2: 2\n"
     ]
    },
    {
     "name": "stdout",
     "output_type": "stream",
     "text": [
      "3\n",
      "-1\n",
      "2\n"
     ]
    }
   ],
   "source": [
    "#Pedir al usuario un valor. Si el valor es positivo, pedir un segundo valor y calcular la suma, resta y producto de ambos. Mostrar los resultados por pantalla. \n",
    "numero1 = int(input('Ingrese un numero entero 1:'))\n",
    "if numero1 > 0:\n",
    "    numero2 = int(input('Ingrese un numero entero 2:'))\n",
    "    suma = numero1 + numero2\n",
    "    resta = numero1 - numero2\n",
    "    producto = numero1 * numero2\n",
    "print(suma)\n",
    "print(resta)\n",
    "print(producto)\n",
    "        \n",
    "                \n",
    "                \n",
    "\n",
    "        \n",
    "    "
   ]
  },
  {
   "cell_type": "code",
   "execution_count": 36,
   "id": "4536c949-3500-451e-abca-804ac7095af7",
   "metadata": {},
   "outputs": [
    {
     "name": "stdin",
     "output_type": "stream",
     "text": [
      "ingrese un número entero 1: 3\n",
      "ingrese un número entero 2: 10\n"
     ]
    },
    {
     "name": "stdout",
     "output_type": "stream",
     "text": [
      "10\n"
     ]
    }
   ],
   "source": [
    "#Calcular el mayor de dos números enteros introducidos por teclado.\n",
    "A = int(input('ingrese un número entero 1:'))\n",
    "B = int(input('ingrese un número entero 2:'))\n",
    "if A > B:\n",
    "    print(A)\n",
    "else:\n",
    "    print(B)\n",
    "            \n",
    "            "
   ]
  },
  {
   "cell_type": "code",
   "execution_count": 50,
   "id": "dbd53b05-33fc-40bd-b98a-4a8f987d790b",
   "metadata": {},
   "outputs": [
    {
     "name": "stdin",
     "output_type": "stream",
     "text": [
      "ingrese un número entero 1: 1\n",
      "ingrese un número entero 2: 2\n",
      "ingrese un número entero 3: 3\n"
     ]
    },
    {
     "name": "stdout",
     "output_type": "stream",
     "text": [
      "El numero 3  es mayor\n"
     ]
    }
   ],
   "source": [
    "#Calcular el mayor de tres números enteros introducidos por teclado.\n",
    "A = int(input('ingrese un número entero 1:'))\n",
    "B = int(input('ingrese un número entero 2:'))\n",
    "C = int(input('ingrese un número entero 3:'))\n",
    "if A > B and A > C:\n",
    "    print('El numero',A, 'es mayor') \n",
    "elif B > A and B > C:\n",
    "    print('El numero',B, 'es mayor')\n",
    "else:\n",
    "    C > B and C > A\n",
    "    print('El numero',C, ' es mayor')\n",
    "\n"
   ]
  },
  {
   "cell_type": "code",
   "execution_count": 62,
   "id": "3a38e084-6f90-4976-a7bc-beea09897e24",
   "metadata": {
    "jp-MarkdownHeadingCollapsed": true
   },
   "outputs": [
    {
     "name": "stdin",
     "output_type": "stream",
     "text": [
      "ingrese un número entero 1: 1\n",
      "ingrese un número entero 2: 2\n",
      "ingrese un número entero 3: 3\n",
      "ingrese un número entero 4: 4\n"
     ]
    },
    {
     "name": "stdout",
     "output_type": "stream",
     "text": [
      "El numero mayor es 4\n"
     ]
    }
   ],
   "source": [
    "# Calcular el mayor de cuatro números enteros introducidos por teclado. \n",
    "A = int(input('ingrese un número entero 1:'))\n",
    "B = int(input('ingrese un número entero 2:'))\n",
    "C = int(input('ingrese un número entero 3:'))\n",
    "D = int(input('ingrese un número entero 4:'))\n",
    "\n",
    "numeros = (A,B,C,D)\n",
    "mayor = max(numeros)\n",
    "print(f'El numero mayor es ' + str(mayor))\n",
    "\n"
   ]
  },
  {
   "cell_type": "code",
   "execution_count": 75,
   "id": "de75f8af-1d1e-444d-ae09-56b6efdeed70",
   "metadata": {},
   "outputs": [
    {
     "name": "stdin",
     "output_type": "stream",
     "text": [
      "ingrese temperatura del agua: 500\n"
     ]
    },
    {
     "name": "stdout",
     "output_type": "stream",
     "text": [
      "El estado de la temperatura es gaseoso\n"
     ]
    }
   ],
   "source": [
    "# Determinar en que estado está el agua en función de su temperatura. Si es negativa el estado será sólido, si es menor que 100 será líquido y si es mayor que 100 será gas. Pedir al usuario el valor de la temperatura. \n",
    "temperatura = int(input('ingrese temperatura del agua:'))\n",
    "if temperatura < 0:\n",
    "    print('El estado del agua es solido')\n",
    "elif temperatura < 100 and temperatura > 0:\n",
    "    print('El estado del agua es liquido')\n",
    "else:\n",
    "    temperatura > 100\n",
    "    print('El estado de la temperatura es gaseoso')\n"
   ]
  },
  {
   "cell_type": "code",
   "execution_count": null,
   "id": "a6038cf6-2040-45ba-b56c-bf87bec500e4",
   "metadata": {},
   "outputs": [],
   "source": [
    "# 1.8  Un año es bisiesto si es divisible por 4 y no es por 100, o si es divisible por 400. Escribe un programa que lea un año y devuelva si es bisiesto o no.  \n",
    "año = int(input('ingrese año '))\n",
    "if año %4 == 0\n"
   ]
  },
  {
   "cell_type": "code",
   "execution_count": 20,
   "id": "421b201d-940d-4f3a-9c38-c9a96295c37b",
   "metadata": {},
   "outputs": [
    {
     "name": "stdin",
     "output_type": "stream",
     "text": [
      "Por favor ingrese un numero:  15\n",
      "Por favor ingrese un numero ó 0 para finalizar:  15\n",
      "Por favor ingrese un numero ó 0 para finalizar:  0\n"
     ]
    },
    {
     "name": "stdout",
     "output_type": "stream",
     "text": [
      "El promedio de los numeros es15.0\n"
     ]
    }
   ],
   "source": [
    "#Realizar un programa que solicite numeros al usuario, el usuario debe ingresar los numeros hasta que ingrese 0, al finalizar debe entregar el promedio de los números ingresados por el usuario.\n",
    "numero = float(input('Por favor ingrese un numero: '))\n",
    "suma = numero\n",
    "contador = 1\n",
    "while True:\n",
    "    numero = float(input('Por favor ingrese un numero ó 0 para finalizar: '))\n",
    "    # == suma+= numero\n",
    "    if numero == 0:\n",
    "        break\n",
    "    else:\n",
    "        suma = suma + numero\n",
    "        contador += 1\n",
    "promedio = suma/contador\n",
    "print(f'El promedio de los numeros es ' + str(promedio) )\n",
    "    \n",
    "\n",
    "\n",
    "#acumulacion = una variable que se le suma diferentes magnitudes\n",
    "#contadora = una variable que se le suma un valor definido\n",
    "#a = 0 "
   ]
  },
  {
   "cell_type": "code",
   "execution_count": 26,
   "id": "a963efc5-2f43-483f-9625-81725808bf94",
   "metadata": {},
   "outputs": [
    {
     "name": "stdin",
     "output_type": "stream",
     "text": [
      "Por favor ingrese un numero (entero) de hasta donde quiere ver la serie de Fibonacci:  9\n"
     ]
    },
    {
     "name": "stdout",
     "output_type": "stream",
     "text": [
      "1\n",
      "1\n",
      "2\n",
      "3\n",
      "5\n",
      "8\n",
      "13\n",
      "21\n",
      "34\n"
     ]
    }
   ],
   "source": [
    "# Realice un algoritmo que muestre al usuario los primeros n numeros de la serire de Fibonacci.\n",
    "n = int(input('Por favor ingrese un numero (entero) de hasta donde quiere ver la serie de Fibonacci: '))\n",
    "aux = 0\n",
    "b = 0\n",
    "a = 1\n",
    "for i in range(n):\n",
    "    print(a)\n",
    "    b = a\n",
    "    a = a + aux\n",
    "    aux = b\n",
    "\n",
    "    "
   ]
  },
  {
   "cell_type": "code",
   "execution_count": null,
   "id": "e945d761-1449-4475-a4cc-18085d4e6d5f",
   "metadata": {},
   "outputs": [],
   "source": [
    "# 2.3. Calcular el promedio de un alumno que tiene 7 calificaciones en la materia de Cálculo. \n",
    "calificacion1 = int(input('ingrese un número entero 1:'))\n",
    "for x in range(7):\n",
    "    nota = float(input('ingrese la not')\n",
    "                 nota += nota\n",
    "print(nota/7)"
   ]
  },
  {
   "cell_type": "code",
   "execution_count": null,
   "id": "b658ab38-87aa-42a2-b180-f476a85b4106",
   "metadata": {},
   "outputs": [],
   "source": [
    "# Calcular el promedio de 50 valores almacenados en un vector. Determinar además cuantos son mayores que el promedio, imprimir el promedio, el número de datos mayores que el promedio y una lista de valores mayores que el promedio. \n"
   ]
  },
  {
   "cell_type": "code",
   "execution_count": 34,
   "id": "4e49bc25-43c7-4210-9da7-889a9aaa7366",
   "metadata": {},
   "outputs": [
    {
     "data": {
      "text/plain": [
       "[927,\n",
       " 335,\n",
       " 883,\n",
       " 47,\n",
       " 92,\n",
       " 631,\n",
       " 749,\n",
       " 245,\n",
       " 865,\n",
       " 560,\n",
       " 327,\n",
       " 221,\n",
       " 970,\n",
       " 806,\n",
       " 730,\n",
       " 657,\n",
       " 309,\n",
       " 520,\n",
       " 998,\n",
       " 627,\n",
       " 489,\n",
       " 222,\n",
       " 767,\n",
       " 90,\n",
       " 794,\n",
       " 688,\n",
       " 583,\n",
       " 714,\n",
       " 652,\n",
       " 860,\n",
       " 106,\n",
       " 120,\n",
       " 775,\n",
       " 372,\n",
       " 11,\n",
       " 16,\n",
       " 351,\n",
       " 388,\n",
       " 158,\n",
       " 754,\n",
       " 642,\n",
       " 54,\n",
       " 15,\n",
       " 101,\n",
       " 252,\n",
       " 545,\n",
       " 189,\n",
       " 207,\n",
       " 402,\n",
       " 869]"
      ]
     },
     "execution_count": 34,
     "metadata": {},
     "output_type": "execute_result"
    }
   ],
   "source": [
    "import random\n",
    "\n",
    "from random import randint\n",
    "\n",
    "the_lista = [random.randint(1,1000) for _ in range(50)]\n",
    "the_lista"
   ]
  },
  {
   "cell_type": "code",
   "execution_count": 35,
   "id": "aa8c4571-aedf-43b3-bff1-31145d76c123",
   "metadata": {},
   "outputs": [
    {
     "data": {
      "text/plain": [
       "[927,\n",
       " 335,\n",
       " 883,\n",
       " 47,\n",
       " 92,\n",
       " 631,\n",
       " 749,\n",
       " 245,\n",
       " 865,\n",
       " 560,\n",
       " 327,\n",
       " 221,\n",
       " 970,\n",
       " 806,\n",
       " 730,\n",
       " 657,\n",
       " 309,\n",
       " 520,\n",
       " 998,\n",
       " 627,\n",
       " 489,\n",
       " 222,\n",
       " 767,\n",
       " 90,\n",
       " 794,\n",
       " 688,\n",
       " 583,\n",
       " 714,\n",
       " 652,\n",
       " 860,\n",
       " 106,\n",
       " 120,\n",
       " 775,\n",
       " 372,\n",
       " 11,\n",
       " 16,\n",
       " 351,\n",
       " 388,\n",
       " 158,\n",
       " 754,\n",
       " 642,\n",
       " 54,\n",
       " 15,\n",
       " 101,\n",
       " 252,\n",
       " 545,\n",
       " 189,\n",
       " 207,\n",
       " 402,\n",
       " 869]"
      ]
     },
     "execution_count": 35,
     "metadata": {},
     "output_type": "execute_result"
    }
   ],
   "source": [
    "the_lista\n"
   ]
  },
  {
   "cell_type": "code",
   "execution_count": 37,
   "id": "c9450754-f4f8-4d5a-acc1-6e146ed519c3",
   "metadata": {},
   "outputs": [
    {
     "data": {
      "text/plain": [
       "50"
      ]
     },
     "execution_count": 37,
     "metadata": {},
     "output_type": "execute_result"
    }
   ],
   "source": [
    "cantidad_elementos = len(the_lista)\n",
    "cantidad_elementos "
   ]
  },
  {
   "cell_type": "code",
   "execution_count": 39,
   "id": "773b7dea-1880-4501-85ab-36c9d05be9e9",
   "metadata": {},
   "outputs": [
    {
     "data": {
      "text/plain": [
       "23685"
      ]
     },
     "execution_count": 39,
     "metadata": {},
     "output_type": "execute_result"
    }
   ],
   "source": [
    "suma_elementos = sum(the_lista)\n",
    "suma_elementos\n"
   ]
  },
  {
   "cell_type": "code",
   "execution_count": 41,
   "id": "38cd3056-c460-4104-b380-94a89e58bad9",
   "metadata": {},
   "outputs": [
    {
     "name": "stdout",
     "output_type": "stream",
     "text": [
      "473.7\n"
     ]
    }
   ],
   "source": [
    "promedio_lista = suma_elementos/cantidad_elementos\n",
    "print(promedio_lista)\n"
   ]
  },
  {
   "cell_type": "code",
   "execution_count": 48,
   "id": "453f8cdd-4ec5-4404-aa78-296f8e683728",
   "metadata": {},
   "outputs": [
    {
     "name": "stdout",
     "output_type": "stream",
     "text": [
      "473.7\n",
      "26\n",
      "[927, 883, 631, 749, 865, 560, 970, 806, 730, 657, 520, 998, 627, 489, 767, 794, 688, 583, 714, 652, 860, 775, 754, 642, 545, 869]\n"
     ]
    }
   ],
   "source": [
    "#Determinar los mayors que el promedio\n",
    "mayores_promedio = 0\n",
    "lista_elementos_mayores_avg = []\n",
    "\n",
    "for item in the_lista:\n",
    "    #validamos si el elmentos es mayor al promdio:\n",
    "    if item > promedio_lista:\n",
    "        mayores_promedio += 1\n",
    "        lista_elementos_mayores_avg.append(item)\n",
    "\n",
    "\n",
    "print(promedio_lista)\n",
    "print(mayores_promedio)\n",
    "print(lista_elementos_mayores_avg)\n",
    "\n",
    "\n"
   ]
  },
  {
   "cell_type": "code",
   "execution_count": 45,
   "id": "022485f2-c778-4c1c-802b-04cf41fee07e",
   "metadata": {},
   "outputs": [
    {
     "name": "stdout",
     "output_type": "stream",
     "text": [
      "26\n"
     ]
    }
   ],
   "source": [
    "print(len(lista_elementos_mayores_avg))\n"
   ]
  },
  {
   "cell_type": "code",
   "execution_count": 47,
   "id": "10f40312-2293-491a-bdf8-9b3b64069e60",
   "metadata": {},
   "outputs": [
    {
     "name": "stdout",
     "output_type": "stream",
     "text": [
      "24\n"
     ]
    }
   ],
   "source": [
    "menores_promedio = 0\n",
    "lista_elementos_menores_avg = []\n",
    "for item in the_lista:\n",
    "\n",
    "    if item < promedio_lista:\n",
    "        menores_promedio +=1\n",
    "        lista_elementos_menores_avg.append(item)\n",
    "        \n",
    "print(menores_promedio)"
   ]
  },
  {
   "cell_type": "code",
   "execution_count": null,
   "id": "c0247a4f-9de4-4633-96cd-0f44c296aeec",
   "metadata": {},
   "outputs": [],
   "source": []
  }
 ],
 "metadata": {
  "kernelspec": {
   "display_name": "Python [conda env:base] *",
   "language": "python",
   "name": "conda-base-py"
  },
  "language_info": {
   "codemirror_mode": {
    "name": "ipython",
    "version": 3
   },
   "file_extension": ".py",
   "mimetype": "text/x-python",
   "name": "python",
   "nbconvert_exporter": "python",
   "pygments_lexer": "ipython3",
   "version": "3.12.7"
  }
 },
 "nbformat": 4,
 "nbformat_minor": 5
}
