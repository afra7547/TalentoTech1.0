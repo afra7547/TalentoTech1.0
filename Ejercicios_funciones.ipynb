{
 "cells": [
  {
   "cell_type": "code",
   "execution_count": 13,
   "id": "470f820a-c97d-4b01-b68a-79e5f80a90e1",
   "metadata": {},
   "outputs": [
    {
     "data": {
      "text/plain": [
       "9"
      ]
     },
     "execution_count": 13,
     "metadata": {},
     "output_type": "execute_result"
    }
   ],
   "source": [
    "'''3.1. Crear una función llamada \"suma\", que reciba como parámetros \n",
    "dos números enteros y devuelva como\n",
    "resultado otro número entero que sea la suma de ambos.'''\n",
    "\n",
    "def suma(numero1,numero2):\n",
    "    resultado = numero1+numero2\n",
    "    return resultado\n",
    "\n",
    "suma(4,5)"
   ]
  },
  {
   "cell_type": "code",
   "execution_count": 9,
   "id": "907eb952-3a0b-4ee1-aab3-d22e75f8e5ce",
   "metadata": {},
   "outputs": [
    {
     "data": {
      "text/plain": [
       "2.0"
      ]
     },
     "execution_count": 9,
     "metadata": {},
     "output_type": "execute_result"
    }
   ],
   "source": [
    "'''Crear una función llamada \"division\", que reciba como parámetros \n",
    "dos números enteros y devuelva como resultado un número real, que sea el resultado \n",
    "de dividir el primer número entre el segundo (con decimales)''' \n",
    "\n",
    "def division(numero1,numero2):\n",
    "    resultado = numero1/numero2\n",
    "    return(resultado)\n",
    "\n",
    "division(6,3)\n",
    "\n",
    "    \n",
    "        "
   ]
  },
  {
   "cell_type": "code",
   "execution_count": 10,
   "id": "ca7b1878-d83f-46dc-b458-6303eba6e981",
   "metadata": {},
   "outputs": [
    {
     "name": "stdin",
     "output_type": "stream",
     "text": [
      "Ingrese el primer numero:  9\n",
      "Ingres el segundo numero:  3\n"
     ]
    }
   ],
   "source": [
    "param1 = int(input(\"Ingrese el primer numero: \"))\n",
    "param2 = int(input(\"Ingres el segundo numero: \"))\n",
    "\n",
    "             "
   ]
  },
  {
   "cell_type": "code",
   "execution_count": 11,
   "id": "f4b5a49d-a28d-4318-8b7c-4ac9015ee3dc",
   "metadata": {},
   "outputs": [
    {
     "data": {
      "text/plain": [
       "3.0"
      ]
     },
     "execution_count": 11,
     "metadata": {},
     "output_type": "execute_result"
    }
   ],
   "source": [
    "division(param1,param2)"
   ]
  },
  {
   "cell_type": "code",
   "execution_count": 29,
   "id": "f0d9cd68-4dc6-4208-a64c-f4a003b2ee44",
   "metadata": {},
   "outputs": [
    {
     "name": "stdin",
     "output_type": "stream",
     "text": [
      "Por favor escribir una letra:  t\n",
      "Por favor escribir un numero: 9\n"
     ]
    },
    {
     "name": "stdout",
     "output_type": "stream",
     "text": [
      "t\n",
      "t\n",
      "t\n",
      "t\n",
      "t\n",
      "t\n",
      "t\n",
      "t\n",
      "t\n"
     ]
    }
   ],
   "source": [
    "'''3.3. Crear una función llamada \"letraRepetida\", que reciba como \n",
    "parámetros una letra y un número, y escriba en pantalla esa letra repetida \n",
    "en pantalla varias veces (tantas como indique el número), sin devolver ningún valor.'''\n",
    "\n",
    "letra = input('Por favor escribir una letra: ')\n",
    "num = int(input('Por favor escribir un numero:'))\n",
    "\n",
    "def letraRepetida(x,y):\n",
    "    for i in range(num):\n",
    "        print(letra)\n",
    "\n",
    "letraRepetida(letra,num)"
   ]
  },
  {
   "cell_type": "code",
   "execution_count": 15,
   "id": "6f23e21f-dc00-4c31-b787-e8b01961c1b8",
   "metadata": {},
   "outputs": [
    {
     "name": "stdout",
     "output_type": "stream",
     "text": [
      "10\n"
     ]
    }
   ],
   "source": [
    "def suma(x,y):\n",
    "    suma = a + b\n",
    "    print(suma)\n",
    "\n",
    "a = 6\n",
    "b = 4\n",
    "\n",
    "suma(a,b)\n"
   ]
  },
  {
   "cell_type": "code",
   "execution_count": 17,
   "id": "8406c772-2300-4d42-a80c-2d105208ee82",
   "metadata": {},
   "outputs": [
    {
     "name": "stdin",
     "output_type": "stream",
     "text": [
      "Digita un número:  3\n",
      "Digita un segundo número:  5\n"
     ]
    },
    {
     "name": "stdout",
     "output_type": "stream",
     "text": [
      "8\n"
     ]
    }
   ],
   "source": [
    "def suma(x,y):\n",
    "    suma = a + b\n",
    "    return suma\n",
    "\n",
    "a = int(input(\"Digita un número: \"))\n",
    "b = int(input(\"Digita un segundo número: \"))\n",
    "\n",
    "resultado = suma(a,b)\n",
    "print(resultado)\n"
   ]
  },
  {
   "cell_type": "code",
   "execution_count": 50,
   "id": "7e94b6b0-c414-4dab-b0a1-e0337275caff",
   "metadata": {},
   "outputs": [
    {
     "name": "stdin",
     "output_type": "stream",
     "text": [
      "Por favor ingresar un texto:  hola Mundo\n"
     ]
    },
    {
     "name": "stdout",
     "output_type": "stream",
     "text": [
      "                                         hola Mundo\n",
      "                                         __________\n"
     ]
    }
   ],
   "source": [
    "'''3.4. Crear una función llamada \"rotulo\", que tome como parámetro \n",
    "una cadena de texto, no devuelva ningún valor, y escriba en \n",
    "pantalla ese texto centrado (suponiendo una anchura de pantalla de 80 letras)\n",
    "y en la línea siguiente escriba guiones para que el rótulo parezca \n",
    "subrayado (tantos guiones como letras formen la palabra).'''\n",
    "\n",
    "texto = input('Por favor ingresar un texto: ')\n",
    "ancho = 40\n",
    "largo_cadena = len(texto)\n",
    "\n",
    "def rotulo():\n",
    "\n",
    "        print(\" \" *ancho,texto)\n",
    "        print(\" \" *ancho,\"_\"*largo_cadena)\n",
    "\n",
    "rotulo()\n",
    "\n",
    "    \n",
    "    "
   ]
  },
  {
   "cell_type": "code",
   "execution_count": 68,
   "id": "87893aca-91b5-448b-87ae-eff77b345303",
   "metadata": {},
   "outputs": [
    {
     "ename": "SyntaxError",
     "evalue": "unmatched ')' (3637004098.py, line 31)",
     "output_type": "error",
     "traceback": [
      "\u001b[1;36m  Cell \u001b[1;32mIn[68], line 31\u001b[1;36m\u001b[0m\n\u001b[1;33m    if resultado1 ((b**2)-(4*a*b))) > 0 and 2*a > 0:\u001b[0m\n\u001b[1;37m                                  ^\u001b[0m\n\u001b[1;31mSyntaxError\u001b[0m\u001b[1;31m:\u001b[0m unmatched ')'\n"
     ]
    }
   ],
   "source": [
    "'''35. Crea dos funciones \"solucionRC1\" y \"solucionRC2\" que devuelvan las dos raíces\n",
    "de una ecuación de segundo grado. Además, deberás crear una función \"existeSolucionRC\", \n",
    "que devuelva un 1 si la raíz cuadrada tiene solución, o un 0, si no la tiene.'''\n",
    "\n",
    "import math\n",
    "\n",
    "a = 1\n",
    "b = 8\n",
    "c = 1\n",
    "\n",
    "x1 = ((-b) +math.sqrt((b**2)-(4*a*b)))/2*a  \n",
    "x2 = ((-b) -math.sqrt((b**2)-(4*a*b)))/2*a  \n",
    "\n",
    "\n",
    "def solucionRC1(a,b,c):\n",
    "    resultado1 = x1\n",
    "    print(resultado1)\n",
    "    return(resultado1)\n",
    "\n",
    "solucionRC1(a,b,c)\n",
    "\n",
    "def solucionRC2():\n",
    "    resultado2 = x2\n",
    "    print(resultado2)\n",
    "    return(resultado2)\n",
    "\n",
    "solucionRC2(a,b,c)\n",
    "\n",
    "def existeSolucionRC():\n",
    "\n",
    "    if resultado1 ((b**2)-(4*a*b))) >= 0 and a != 0:\n",
    "        print('La raiz cuadrada tiene solución')\n",
    "\n",
    "existeSolucionRc(a,b,c)\n",
    "    \n",
    "    "
   ]
  },
  {
   "cell_type": "code",
   "execution_count": null,
   "id": "d497a4ae-7f38-45ec-856e-d1bed99a0e24",
   "metadata": {},
   "outputs": [],
   "source": []
  }
 ],
 "metadata": {
  "kernelspec": {
   "display_name": "Python [conda env:base] *",
   "language": "python",
   "name": "conda-base-py"
  },
  "language_info": {
   "codemirror_mode": {
    "name": "ipython",
    "version": 3
   },
   "file_extension": ".py",
   "mimetype": "text/x-python",
   "name": "python",
   "nbconvert_exporter": "python",
   "pygments_lexer": "ipython3",
   "version": "3.12.7"
  }
 },
 "nbformat": 4,
 "nbformat_minor": 5
}
