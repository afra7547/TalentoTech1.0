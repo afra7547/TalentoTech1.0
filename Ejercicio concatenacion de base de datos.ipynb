{
 "cells": [
  {
   "cell_type": "markdown",
   "id": "283aa07c-80fe-4463-9e1e-294b120de186",
   "metadata": {},
   "source": [
    "# Ejercicio concatenación de base de datos"
   ]
  },
  {
   "cell_type": "code",
   "execution_count": 3,
   "id": "e66371ba-41e5-4b93-a059-4c4c58ac840b",
   "metadata": {},
   "outputs": [],
   "source": [
    "import pandas as pd"
   ]
  },
  {
   "cell_type": "code",
   "execution_count": 5,
   "id": "892f177e-cedb-4e8a-b6b8-239980396077",
   "metadata": {},
   "outputs": [],
   "source": [
    "v_2018 = './datasets/Ventas_2018.xlsx'\n",
    "v_2019 = './datasets/Ventas_2019.xlsx'\n",
    "v_2020 = './datasets/Ventas_2020.xlsx'\n",
    "v_2021 = './datasets/Ventas_2021.xlsx'\n",
    "\n",
    "df_1 = pd.read_excel(v_2018)\n",
    "df_2 = pd.read_excel(v_2019)\n",
    "df_3 = pd.read_excel(v_2020)\n",
    "df_4 = pd.read_excel(v_2021)\n",
    "\n",
    "df_ventas_previa = pd.concat([df_2,df_3,df_4], axis = 0, ignore_index = True)\n",
    "df_ventas_final = pd.concat([df_1,df_ventas_previa], axis = 0, ignore_index = True)\n"
   ]
  },
  {
   "cell_type": "code",
   "execution_count": null,
   "id": "694dd489-f641-42ad-9648-52805bf0a9bf",
   "metadata": {},
   "outputs": [],
   "source": []
  },
  {
   "cell_type": "code",
   "execution_count": null,
   "id": "bd14cfd4-050a-4917-8079-a44e91c4cdf3",
   "metadata": {},
   "outputs": [],
   "source": []
  }
 ],
 "metadata": {
  "kernelspec": {
   "display_name": "Python [conda env:base] *",
   "language": "python",
   "name": "conda-base-py"
  },
  "language_info": {
   "codemirror_mode": {
    "name": "ipython",
    "version": 3
   },
   "file_extension": ".py",
   "mimetype": "text/x-python",
   "name": "python",
   "nbconvert_exporter": "python",
   "pygments_lexer": "ipython3",
   "version": "3.12.7"
  }
 },
 "nbformat": 4,
 "nbformat_minor": 5
}
